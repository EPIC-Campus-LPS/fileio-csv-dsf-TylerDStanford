{
 "cells": [
  {
   "cell_type": "markdown",
   "id": "2eb2322f-0ae5-4e03-a480-9545707006ad",
   "metadata": {},
   "source": [
    "# Letter Frequency"
   ]
  },
  {
   "cell_type": "code",
   "execution_count": 184,
   "id": "b1d477ff-a0a4-4193-99ae-7791b632c1b2",
   "metadata": {},
   "outputs": [
    {
     "name": "stdout",
     "output_type": "stream",
     "text": [
      "{'A': 28286, 'B': 5146, 'C': 10307, 'D': 15575, 'E': 47318, 'F': 9530, 'G': 8402, 'H': 22579, 'I': 26821, 'J': 410, 'K': 2266, 'L': 14801, 'M': 8919, 'N': 26815, 'O': 27570, 'P': 6510, 'Q': 426, 'R': 24235, 'S': 25048, 'T': 33387, 'U': 9544, 'V': 3488, 'W': 7602, 'X': 507, 'Y': 5984, 'Z': 83}\n"
     ]
    }
   ],
   "source": [
    "aplhanum = {\n",
    "  \"A\": 0,\n",
    "  \"B\": 0,\n",
    "  \"C\": 0,\n",
    "  \"D\": 0,\n",
    "  \"E\": 0,\n",
    "  \"F\": 0,\n",
    "  \"G\": 0,\n",
    "  \"H\": 0,\n",
    "  \"I\": 0,\n",
    "  \"J\": 0,\n",
    "  \"K\": 0,\n",
    "  \"L\": 0,\n",
    "  \"M\": 0,\n",
    "  \"N\": 0,\n",
    "  \"O\": 0,\n",
    "  \"P\": 0,\n",
    "  \"Q\": 0,\n",
    "  \"R\": 0,\n",
    "  \"S\": 0,\n",
    "  \"T\": 0,\n",
    "  \"U\": 0,\n",
    "  \"V\": 0,\n",
    "  \"W\": 0,\n",
    "  \"X\": 0,\n",
    "  \"Y\": 0,\n",
    "  \"Z\": 0\n",
    "}\n",
    "with open(\"pg72732.txt\", \"r\") as file:\n",
    "    text = \" \".join(line.rstrip() for line in file)\n",
    "    for i in text:\n",
    "        \n",
    "        if i.upper() in (aplhanum.keys()):\n",
    "            aplhanum[i.upper()] += 1\n",
    "print(aplhanum)"
   ]
  },
  {
   "cell_type": "markdown",
   "id": "82d9ebc2-5b20-46e6-882b-c9d876afb2a1",
   "metadata": {},
   "source": [
    "# Log Files"
   ]
  },
  {
   "cell_type": "code",
   "execution_count": 204,
   "id": "7bb1d32d-2202-4f36-a5d6-bdea308c5577",
   "metadata": {},
   "outputs": [
    {
     "name": "stdout",
     "output_type": "stream",
     "text": [
      "The top three vistied websites are: AM-https://www.sample.edu/?blow=jail&stitch=rose, AM-https://www.sample.edu/?blow=jail&stitch=rose,  AM-https://www.sample.edu/?blow=jail&stitch=rose \n",
      "The number of unique IP Addresses are: 13\n"
     ]
    }
   ],
   "source": [
    "f = open(\"server_log.txt.1\", \"r\") \n",
    "data = f.read()  \n",
    "data_into_list = data.replace('\\n', ' ').split(\" \") \n",
    "uniqueIP = []\n",
    "topThree = []\n",
    "uniqueIPS = []\n",
    "\n",
    "for i in data_into_list[3:-1]:\n",
    "    uniqueIP.append(i.rsplit(\"-\")[0])\n",
    "for i in uniqueIP:\n",
    "    if uniqueIP.count(i) == 1 and i[0].isdigit() == True:\n",
    "            uniqueIPS.append(i)\n",
    "count = []\n",
    "for i in range(len(data_into_list[3:-1])):\n",
    "    count.append(data_into_list[3:-1].count((data_into_list[3:-1])[i]))\n",
    "topThree = sorted(zip(count, data_into_list[3:-1]), reverse=True)[:3]\n",
    "f.close()\n",
    "\n",
    "with open(\"server_summary4.txt\", \"w\") as file:\n",
    "\tfile.write(f\"The top three vistied websites are: {(topThree[0])[1]}, {(topThree[1])[1]},  {(topThree[2])[1]} \\nThe number of unique IP Addresses are: {len(uniqueIPS)}\")\n",
    "final = open(\"server_summary4.txt\", \"r\")\n",
    "yesss = final.read()\n",
    "print(yesss)\n",
    "final.close()"
   ]
  },
  {
   "cell_type": "markdown",
   "id": "af5cac7c-8354-4d58-b603-5a3efd7eddda",
   "metadata": {},
   "source": [
    "# Receiptify"
   ]
  },
  {
   "cell_type": "code",
   "execution_count": 186,
   "id": "648bbfa4-c29a-4137-aecb-a55afeeea8f4",
   "metadata": {},
   "outputs": [
    {
     "name": "stdout",
     "output_type": "stream",
     "text": [
      "  Rank  Song                AMT\n",
      "------  ----------------  -----\n",
      "     1  Super Shy            30\n",
      "     2  Dance The Night      27\n",
      "     3  Rush                 25\n",
      "     4  I Wanna Be Yours     25\n",
      "     5  LALA                 23\n",
      "     6  Flowers              21\n",
      "     7  Blank Space          21\n",
      "     8  Another Love         21\n",
      "     9  WHERE SHE GOES       18\n",
      "    10  vampire              16\n"
     ]
    }
   ],
   "source": [
    "from tabulate import tabulate\n",
    "songs = []\n",
    "with open(\"spotify_data.csv\") as file:\n",
    "    for line in file:\n",
    "        row = line.rstrip().split(\",\")\n",
    "        songs.append(row[0])\n",
    "count = []\n",
    "for i in range(len(songs)):\n",
    "    count.append(songs.count((songs)[i]))\n",
    "topTen = sorted(zip(count, songs), reverse=True)\n",
    "res = (sorted(tuple(set(topTen)), reverse = True))[0:10]\n",
    "table = [\"1\",(res[0])[1],(res[0])[0]],[\"2\",(res[1])[1],(res[1])[0]],[\"3\",(res[2])[1],(res[2])[0]],[\"4\",(res[3])[1],(res[3])[0]],[\"5\",(res[4])[1],(res[4])[0]],[\"6\",(res[5])[1],(res[5])[0]],[\"7\",(res[6])[1],(res[6])[0]],[\"8\",(res[7])[1],(res[7])[0]],[\"9\",(res[8])[1],(res[8])[0]],[\"10\",(res[9])[1],(res[9])[0]]\n",
    "print(tabulate(table, headers=[\"Rank\",\"Song\", \"AMT\"]))\n",
    "\n",
    "    "
   ]
  }
 ],
 "metadata": {
  "kernelspec": {
   "display_name": "Python 3 (ipykernel)",
   "language": "python",
   "name": "python3"
  },
  "language_info": {
   "codemirror_mode": {
    "name": "ipython",
    "version": 3
   },
   "file_extension": ".py",
   "mimetype": "text/x-python",
   "name": "python",
   "nbconvert_exporter": "python",
   "pygments_lexer": "ipython3",
   "version": "3.10.12"
  }
 },
 "nbformat": 4,
 "nbformat_minor": 5
}
